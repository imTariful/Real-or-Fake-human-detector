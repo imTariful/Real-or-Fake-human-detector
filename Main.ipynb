{
  "nbformat": 4,
  "nbformat_minor": 0,
  "metadata": {
    "colab": {
      "provenance": []
    },
    "kernelspec": {
      "name": "python3",
      "display_name": "Python 3"
    },
    "language_info": {
      "name": "python"
    }
  },
  "cells": [
    {
      "cell_type": "code",
      "execution_count": 1,
      "metadata": {
        "colab": {
          "base_uri": "https://localhost:8080/",
          "height": 384
        },
        "id": "IIop1oYQdnmB",
        "outputId": "d5ed3c84-f9e6-4d39-b84f-0a98e15089e5"
      },
      "outputs": [
        {
          "output_type": "error",
          "ename": "ModuleNotFoundError",
          "evalue": "No module named 'cvzone'",
          "traceback": [
            "\u001b[0;31m---------------------------------------------------------------------------\u001b[0m",
            "\u001b[0;31mModuleNotFoundError\u001b[0m                       Traceback (most recent call last)",
            "\u001b[0;32m/tmp/ipython-input-836029836.py\u001b[0m in \u001b[0;36m<cell line: 0>\u001b[0;34m()\u001b[0m\n\u001b[1;32m      2\u001b[0m \u001b[0;32mimport\u001b[0m \u001b[0mtime\u001b[0m\u001b[0;34m\u001b[0m\u001b[0;34m\u001b[0m\u001b[0m\n\u001b[1;32m      3\u001b[0m \u001b[0;32mimport\u001b[0m \u001b[0mcv2\u001b[0m\u001b[0;34m\u001b[0m\u001b[0;34m\u001b[0m\u001b[0m\n\u001b[0;32m----> 4\u001b[0;31m \u001b[0;32mimport\u001b[0m \u001b[0mcvzone\u001b[0m\u001b[0;34m\u001b[0m\u001b[0;34m\u001b[0m\u001b[0m\n\u001b[0m\u001b[1;32m      5\u001b[0m \u001b[0;32mfrom\u001b[0m \u001b[0multralytics\u001b[0m \u001b[0;32mimport\u001b[0m \u001b[0mYOLO\u001b[0m\u001b[0;34m\u001b[0m\u001b[0;34m\u001b[0m\u001b[0m\n\u001b[1;32m      6\u001b[0m \u001b[0;34m\u001b[0m\u001b[0m\n",
            "\u001b[0;31mModuleNotFoundError\u001b[0m: No module named 'cvzone'",
            "",
            "\u001b[0;31m---------------------------------------------------------------------------\u001b[0;32m\nNOTE: If your import is failing due to a missing package, you can\nmanually install dependencies using either !pip or !apt.\n\nTo view examples of installing some common dependencies, click the\n\"Open Examples\" button below.\n\u001b[0;31m---------------------------------------------------------------------------\u001b[0m\n"
          ],
          "errorDetails": {
            "actions": [
              {
                "action": "open_url",
                "actionText": "Open Examples",
                "url": "/notebooks/snippets/importing_libraries.ipynb"
              }
            ]
          }
        }
      ],
      "source": [
        "import math\n",
        "import time\n",
        "import cv2\n",
        "import cvzone\n",
        "from ultralytics import YOLO\n",
        "\n",
        "# ========== Configuration ==========\n",
        "CONFIDENCE_THRESHOLD = 0.7\n",
        "MODEL_PATH = \"your trained model\"\n",
        "CLASS_NAMES = [\"fake\", \"real\"]\n",
        "CAMERA_WIDTH, CAMERA_HEIGHT = 416, 416\n",
        "\n",
        "# ========== Initialize Webcam ==========\n",
        "cap = cv2.VideoCapture(0, cv2.CAP_DSHOW)  # Use 1 if external camera\n",
        "cap.set(3, CAMERA_WIDTH)\n",
        "cap.set(4, CAMERA_HEIGHT)\n",
        "\n",
        "# ========== Load YOLOv8 Model ==========\n",
        "model = YOLO(MODEL_PATH)\n",
        "\n",
        "# ========== FPS Calculation ==========\n",
        "prev_frame_time = 0\n",
        "\n",
        "# ========== Main Loop ==========\n",
        "while True:\n",
        "    new_frame_time = time.time()\n",
        "    success, frame = cap.read()\n",
        "    if not success:\n",
        "        print(\"❌ Failed to grab frame\")\n",
        "        break\n",
        "\n",
        "    # Run inference\n",
        "    results = model(frame, stream=True, verbose=False)\n",
        "\n",
        "    for result in results:\n",
        "        for box in result.boxes:\n",
        "            x1, y1, x2, y2 = map(int, box.xyxy[0])\n",
        "            w, h = x2 - x1, y2 - y1\n",
        "\n",
        "            confidence = math.ceil(box.conf[0] * 100) / 100\n",
        "            class_id = int(box.cls[0])\n",
        "\n",
        "            if confidence > CONFIDENCE_THRESHOLD:\n",
        "                label = CLASS_NAMES[class_id]\n",
        "                color = (0, 255, 0) if label == \"real\" else (0, 0, 255)\n",
        "\n",
        "                # Draw bounding box and label\n",
        "                cvzone.cornerRect(frame, (x1, y1, w, h), colorC=color, colorR=color)\n",
        "                cvzone.putTextRect(\n",
        "                    frame,\n",
        "                    f'{label.upper()} {int(confidence * 100)}%',\n",
        "                    (max(0, x1), max(35, y1)),\n",
        "                    scale=2,\n",
        "                    thickness=4,\n",
        "                    colorR=color,\n",
        "                    colorB=color\n",
        "                )\n",
        "\n",
        "    # Show FPS\n",
        "    fps = 1 / (new_frame_time - prev_frame_time)\n",
        "    prev_frame_time = new_frame_time\n",
        "    cv2.putText(frame, f'FPS: {int(fps)}', (20, 40),\n",
        "                cv2.FONT_HERSHEY_SIMPLEX, 1, (255, 255, 0), 2)\n",
        "\n",
        "    # Display the result\n",
        "    cv2.imshow(\"YOLOv8 Real-Time Detection\", frame)\n",
        "\n",
        "    # Exit on 'q' key\n",
        "    if cv2.waitKey(1) & 0xFF == ord('q'):\n",
        "        break\n",
        "\n",
        "# ========== Cleanup ==========\n",
        "cap.release()\n",
        "cv2.destroyAllWindows()\n"
      ]
    }
  ]
}
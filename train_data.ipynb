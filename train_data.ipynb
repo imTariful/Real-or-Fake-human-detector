{
  "nbformat": 4,
  "nbformat_minor": 0,
  "metadata": {
    "colab": {
      "provenance": []
    },
    "kernelspec": {
      "name": "python3",
      "display_name": "Python 3"
    },
    "language_info": {
      "name": "python"
    }
  },
  "cells": [
    {
      "cell_type": "code",
      "execution_count": null,
      "metadata": {
        "id": "IIop1oYQdnmB"
      },
      "outputs": [],
      "source": [
        "from ultralytics import YOLO\n",
        "\n",
        "# ========== Load Pretrained Model ==========\n",
        "model = YOLO('yolov8x.pt')  # You can change to yolov8n.pt, yolov8s.pt, etc., if needed\n",
        "\n",
        "def main():\n",
        "    # ========== Train Model ==========\n",
        "    model.train(\n",
        "        data='Dataset/SplitData/dataoffline.yaml',  # Path to your dataset YAML\n",
        "        epochs=15,                                   # Number of epochs\n",
        "        imgsz=640,                                   # (Optional) Image size\n",
        "        batch=16,                                    # (Optional) Batch size\n",
        "        device=0,                                     # Set to 'cpu' or GPU index (e.g., 0, 1)\n",
        "        verbose=True                                 # Show training logs\n",
        "    )\n",
        "\n",
        "if __name__ == '__main__':\n",
        "    main()\n"
      ]
    }
  ]
}